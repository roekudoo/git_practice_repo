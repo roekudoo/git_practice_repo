{
 "metadata": {
  "language_info": {
   "codemirror_mode": {
    "name": "ipython",
    "version": 3
   },
   "file_extension": ".py",
   "mimetype": "text/x-python",
   "name": "python",
   "nbconvert_exporter": "python",
   "pygments_lexer": "ipython3",
   "version": "3.7.6-final"
  },
  "orig_nbformat": 2,
  "kernelspec": {
   "name": "python3",
   "display_name": "Python 3"
  }
 },
 "nbformat": 4,
 "nbformat_minor": 2,
 "cells": [
  {
   "cell_type": "code",
   "execution_count": 1,
   "metadata": {},
   "outputs": [],
   "source": [
    "import pandas as pd\n",
    "import numpy as np\n",
    "import matplotlib as plt"
   ]
  },
  {
   "cell_type": "code",
   "execution_count": 54,
   "metadata": {},
   "outputs": [
    {
     "output_type": "display_data",
     "data": {
      "text/plain": "                                                     name  \\\n9       Baby Tracker&reg; - Daily Childcare Journal, S...   \n10      Baby Tracker&reg; - Daily Childcare Journal, S...   \n16         Nature's Lullabies First Year Sticker Calendar   \n20        Nature's Lullabies Second Year Sticker Calendar   \n28                            Lamaze Peekaboo, I Love You   \n...                                                   ...   \n183507  Maxboost iPhone 5S/5 Case - Protective Snap-on...   \n183515  Maxboost iPhone 5S/5 Case - Protective Snap-on...   \n183522  Airline Seat Belt Extender - The Best Extensio...   \n183524  Squeasy Snacker 6oz Silicone Reusable Food Pou...   \n183530  Best 2 Pack Baby Car Shade for Kids - Window S...   \n\n                                                   review  rating  sentiment  \n9       This has been an easy way for my nanny to reco...       4          1  \n10      I love this journal and our nanny uses it ever...       4          1  \n16      I love this little calender you can keep track...       5          1  \n20      I had a hard time finding a second year calend...       5          1  \n28      One of babys first and favorite books and it i...       4          1  \n...                                                   ...     ...        ...  \n183507  got this for my wife and she loves it would de...       5          1  \n183515  I love this phone case  My  iPhone is always s...       5          1  \n183522  I bought this as a fathers day gift for my dad...       5          1  \n183524  I love this product it makes my life easier Wi...       5          1  \n183530  I love this product very mush  I have bought m...       5          1  \n\n[33336 rows x 4 columns]",
      "text/html": "<div>\n<style scoped>\n    .dataframe tbody tr th:only-of-type {\n        vertical-align: middle;\n    }\n\n    .dataframe tbody tr th {\n        vertical-align: top;\n    }\n\n    .dataframe thead th {\n        text-align: right;\n    }\n</style>\n<table border=\"1\" class=\"dataframe\">\n  <thead>\n    <tr style=\"text-align: right;\">\n      <th></th>\n      <th>name</th>\n      <th>review</th>\n      <th>rating</th>\n      <th>sentiment</th>\n    </tr>\n  </thead>\n  <tbody>\n    <tr>\n      <th>9</th>\n      <td>Baby Tracker&amp;reg; - Daily Childcare Journal, S...</td>\n      <td>This has been an easy way for my nanny to reco...</td>\n      <td>4</td>\n      <td>1</td>\n    </tr>\n    <tr>\n      <th>10</th>\n      <td>Baby Tracker&amp;reg; - Daily Childcare Journal, S...</td>\n      <td>I love this journal and our nanny uses it ever...</td>\n      <td>4</td>\n      <td>1</td>\n    </tr>\n    <tr>\n      <th>16</th>\n      <td>Nature's Lullabies First Year Sticker Calendar</td>\n      <td>I love this little calender you can keep track...</td>\n      <td>5</td>\n      <td>1</td>\n    </tr>\n    <tr>\n      <th>20</th>\n      <td>Nature's Lullabies Second Year Sticker Calendar</td>\n      <td>I had a hard time finding a second year calend...</td>\n      <td>5</td>\n      <td>1</td>\n    </tr>\n    <tr>\n      <th>28</th>\n      <td>Lamaze Peekaboo, I Love You</td>\n      <td>One of babys first and favorite books and it i...</td>\n      <td>4</td>\n      <td>1</td>\n    </tr>\n    <tr>\n      <th>...</th>\n      <td>...</td>\n      <td>...</td>\n      <td>...</td>\n      <td>...</td>\n    </tr>\n    <tr>\n      <th>183507</th>\n      <td>Maxboost iPhone 5S/5 Case - Protective Snap-on...</td>\n      <td>got this for my wife and she loves it would de...</td>\n      <td>5</td>\n      <td>1</td>\n    </tr>\n    <tr>\n      <th>183515</th>\n      <td>Maxboost iPhone 5S/5 Case - Protective Snap-on...</td>\n      <td>I love this phone case  My  iPhone is always s...</td>\n      <td>5</td>\n      <td>1</td>\n    </tr>\n    <tr>\n      <th>183522</th>\n      <td>Airline Seat Belt Extender - The Best Extensio...</td>\n      <td>I bought this as a fathers day gift for my dad...</td>\n      <td>5</td>\n      <td>1</td>\n    </tr>\n    <tr>\n      <th>183524</th>\n      <td>Squeasy Snacker 6oz Silicone Reusable Food Pou...</td>\n      <td>I love this product it makes my life easier Wi...</td>\n      <td>5</td>\n      <td>1</td>\n    </tr>\n    <tr>\n      <th>183530</th>\n      <td>Best 2 Pack Baby Car Shade for Kids - Window S...</td>\n      <td>I love this product very mush  I have bought m...</td>\n      <td>5</td>\n      <td>1</td>\n    </tr>\n  </tbody>\n</table>\n<p>33336 rows × 4 columns</p>\n</div>"
     },
     "metadata": {}
    }
   ],
   "source": [
    "df = pd.read_csv(r'amazon_baby.csv')\n",
    "\n",
    "import unicodedata\n",
    "import sys\n",
    "tbl = dict.fromkeys(i for i in range(sys.maxunicode)\n",
    "                      if unicodedata.category(chr(i)).startswith('P'))\n",
    "def remove_punctuation(text):\n",
    "    return text.translate(tbl)\n",
    "\n",
    "# Some data cleaning steps\n",
    "df['review'] = df['review'].astype(str)\n",
    "df['review'] = df['review'].apply(remove_punctuation)\n",
    "df = df.fillna({'review':''})\n",
    "df = df[df['rating'] != 3]\n",
    "df['sentiment'] = df['rating'].apply(lambda rating: +1 if rating > 3 else -1)\n",
    "\n",
    "# Loading train and test indices\n",
    "import json\n",
    "temp = open('module-2-assignment-train-idx.json',)\n",
    "train_idx = json.load(temp)\n",
    "\n",
    "temp = open('module-2-assignment-test-idx.json',)\n",
    "test_idx = json.load(temp)\n",
    "\n",
    "# defining the train and test data\n",
    "train_data = df.iloc[train_idx]\n",
    "test_data = df.iloc[test_idx]\n",
    "\n",
    "# Checking whether the shapes seem logical\n",
    "display(test_data)\n"
   ]
  },
  {
   "cell_type": "code",
   "execution_count": 29,
   "metadata": {},
   "outputs": [
    {
     "output_type": "display_data",
     "data": {
      "text/plain": "(133416, 121628)"
     },
     "metadata": {}
    },
    {
     "output_type": "display_data",
     "data": {
      "text/plain": "(33336, 121628)"
     },
     "metadata": {}
    }
   ],
   "source": [
    "# create sparse dummy variables for each word\n",
    "from sklearn.feature_extraction.text import CountVectorizer\n",
    "vectorizer = CountVectorizer(token_pattern=r'\\b\\w+\\b')\n",
    "# token_pattern=r'\\b\\w+\\b' to keep single-letter words\n",
    "# First, learn vocabulary from the training data and assign columns to words\n",
    "# Then convert the training data into a sparse matrix\n",
    "train_matrix = vectorizer.fit_transform(train_data['review'])\n",
    "# Second, convert the test data into a sparse matrix, using the same word-column mapping\n",
    "test_matrix = vectorizer.transform(test_data['review'])\n",
    "\n",
    "display(train_matrix.shape, test_matrix.shape)"
   ]
  },
  {
   "cell_type": "code",
   "execution_count": 30,
   "metadata": {},
   "outputs": [
    {
     "output_type": "display_data",
     "data": {
      "text/plain": "90248"
     },
     "metadata": {}
    }
   ],
   "source": [
    "from sklearn.linear_model import LogisticRegression\n",
    "clf = LogisticRegression().fit(train_matrix, train_data['sentiment'])\n",
    "coef = clf.coef_\n",
    "test = coef[coef >= 0]\n",
    "display(len(test))\n",
    "\n",
    "#Q1 90248 weights are greater than or equal to 0"
   ]
  },
  {
   "cell_type": "code",
   "execution_count": 37,
   "metadata": {},
   "outputs": [
    {
     "output_type": "stream",
     "name": "stdout",
     "text": [
      "[  5.30701981  -3.23348745 -10.97641989] [[4.93222909e-03 9.95067771e-01]\n [9.62075203e-01 3.79247970e-02]\n [9.99982900e-01 1.70999164e-05]] [ 1 -1 -1]\n"
     ]
    }
   ],
   "source": [
    "sample_test_data = test_data[10:13]\n",
    "\n",
    "sample_test_matrix = vectorizer.transform(sample_test_data['review'])\n",
    "scores = clf.decision_function(sample_test_matrix)\n",
    "predictions = clf.predict(sample_test_matrix)\n",
    "probabilities = clf.predict_proba(sample_test_matrix)\n",
    "\n",
    "print(scores, probabilities, predictions)\n",
    "\n",
    "# Q2: the third one"
   ]
  },
  {
   "cell_type": "code",
   "execution_count": 53,
   "metadata": {},
   "outputs": [],
   "source": [
    "probabilities = pd.DataFrame(clf.predict_proba(test_matrix))\n",
    "probabilities_pos = probabilities.sort_values(1, ascending=[False])\n",
    "pos_idxs = list(probabilities_pos[0:20].index.values)\n",
    "#display(pos_idxs)\n",
    "#display(test_data.iloc[pos_idxs])\n",
    "\n",
    "# Q3 + Q4 kijk in antwoorden"
   ]
  },
  {
   "cell_type": "code",
   "execution_count": 56,
   "metadata": {},
   "outputs": [
    {
     "output_type": "stream",
     "name": "stdout",
     "text": [
      "0.931695464362851\n"
     ]
    }
   ],
   "source": [
    "accuracy = clf.score(test_matrix, test_data['sentiment'])\n",
    "print(accuracy)\n",
    "# Q5 0.93 accuracy"
   ]
  },
  {
   "cell_type": "code",
   "execution_count": 79,
   "metadata": {},
   "outputs": [
    {
     "output_type": "display_data",
     "data": {
      "text/plain": "array([[ 1.36377595,  0.94417756,  1.19164654,  0.08540229,  0.52010571,\n         1.51013765,  1.67326465,  0.5035031 ,  0.19107428,  0.05888904,\n        -1.65201149, -0.20930074, -0.51151008, -2.03445058, -2.34817862,\n        -0.62126407, -0.32084749, -0.89797449, -0.36210025, -2.10966608]])"
     },
     "metadata": {}
    }
   ],
   "source": [
    "significant_words = ['love', 'great', 'easy', 'old', 'little', 'perfect', 'loves', \n",
    "      'well', 'able', 'car', 'broke', 'less', 'even', 'waste', 'disappointed', \n",
    "      'work', 'product', 'money', 'would', 'return']\n",
    "\n",
    "#vectorizer_word_subset = CountVectorizer(vocabulary=significant_words) # limit to 20 words\n",
    "#train_matrix_word_subset = vectorizer_word_subset.fit_transform(train_data['review'])\n",
    "#test_matrix_word_subset = vectorizer_word_subset.transform(test_data['review'])\n",
    "\n",
    "from sklearn.linear_model import LogisticRegression\n",
    "#simple_model = LogisticRegression().fit(train_matrix_word_subset, train_data['sentiment'])\n",
    "simple_model_coef = simple_model.coef_\n",
    "display(simple_model_coef)\n",
    "\n",
    "# Q7 10 words are positive for the simple model\n"
   ]
  },
  {
   "cell_type": "code",
   "execution_count": 97,
   "metadata": {},
   "outputs": [
    {
     "output_type": "display_data",
     "data": {
      "text/plain": "0.8427825773938085"
     },
     "metadata": {}
    },
    {
     "output_type": "display_data",
     "data": {
      "text/plain": "0.1572174226061915"
     },
     "metadata": {}
    }
   ],
   "source": [
    "# Majority class classifies\n",
    "pos_count = len(test_data[test_data['sentiment'] == 1])\n",
    "neg_count = len(test_data[test_data['sentiment'] == -1])\n",
    "accuracy_pos = pos_count/(pos_count + neg_count)\n",
    "accuracy_neg = neg_count/(pos_count + neg_count)\n",
    "display(accuracy_pos)\n",
    "display(accuracy_neg)"
   ]
  }
 ]
}